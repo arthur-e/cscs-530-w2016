{
 "cells": [
  {
   "cell_type": "markdown",
   "metadata": {},
   "source": [
    "## CSCS530 Winter 2016\n",
    "#### Complex Systems 530 - Computer Modeling of Complex Systems (Winter 2016)\n",
    "\n",
    "  * Course ID: CMPLXSYS 530\n",
    "  * Course Title: Computer Modeling of Complex Systems\n",
    "  * Term: Winter 2016\n",
    "  * Schedule: Wednesdays and Friday, 1:00-2:30PM ET\n",
    "  * Location: 120 West Hall (http://www.lsa.umich.edu/cscs/research/computerlab)\n",
    "  * Teachers: [Mike Bommarito](https://www.linkedin.com/in/bommarito) and [Sarah Cherng](https://www.linkedin.com/pub/sarah-cherng/35/1b7/316)\n"
   ]
  },
  {
   "cell_type": "markdown",
   "metadata": {},
   "source": [
    "## PD (Game Theory) Model\n",
    "\n",
    "  We'll implement the PD model as described in our [Easley & Kleinberg reading here](https://github.com/mjbommar/cscs-530-w2016/raw/master/readings/easley-kleinberg-networks-crowds-markets-ch6.pdf)."
   ]
  },
  {
   "cell_type": "code",
   "execution_count": 107,
   "metadata": {
    "collapsed": true
   },
   "outputs": [],
   "source": [
    "%matplotlib inline\n",
    "\n",
    "import numpy.random\n",
    "import matplotlib.pyplot as plt"
   ]
  },
  {
   "cell_type": "code",
   "execution_count": 108,
   "metadata": {
    "collapsed": true
   },
   "outputs": [],
   "source": [
    "# Setup payoffs\n",
    "payoff_map = {(\"NC\", \"NC\"): (-1, -1),\n",
    "             (\"NC\", \"C\"): (-10, 0),\n",
    "             (\"C\", \"NC\"): (0, -10),\n",
    "             (\"C\", \"C\"): (-4, -4)}"
   ]
  },
  {
   "cell_type": "code",
   "execution_count": 109,
   "metadata": {
    "collapsed": false
   },
   "outputs": [
    {
     "name": "stdout",
     "output_type": "stream",
     "text": [
      "I got -10\n",
      "You got 0\n"
     ]
    }
   ],
   "source": [
    "my_payoff, your_payoff = payoff_map[(\"NC\", \"C\")]\n",
    "print(\"I got {0}\".format(my_payoff))\n",
    "print(\"You got {0}\".format(your_payoff))"
   ]
  },
  {
   "cell_type": "code",
   "execution_count": 282,
   "metadata": {
    "collapsed": true
   },
   "outputs": [],
   "source": [
    "prob_confess = 0.5\n",
    "\n",
    "class Player(object):\n",
    "    \"\"\"\n",
    "    Player object.\n",
    "    \"\"\"\n",
    "    \n",
    "    def __init__(self, payoff_map, prob_confess):\n",
    "        \"\"\"\n",
    "        Constructor\n",
    "        \"\"\"\n",
    "        self.payoff_map = payoff_map\n",
    "        self.prob_confess = prob_confess\n",
    "        self.previous_game_payoffs = []\n",
    "        self.other_player_action = []\n",
    "        \n",
    "    def get_action(self):\n",
    "        \"\"\"\n",
    "        Randomly draw action given prob_confess.\n",
    "        \"\"\"\n",
    "        if numpy.random.random() <= prob_confess:\n",
    "            return \"C\"\n",
    "        else:\n",
    "            return \"NC\"\n",
    "        \n",
    "\n",
    "class AlwaysCUntilDPlayer(object):\n",
    "    \"\"\"\n",
    "    Always cooperates until the other defects.\n",
    "    \n",
    "    N.B.: We'll learn about inheritance later.\n",
    "    \"\"\"\n",
    "    def __init__(self, payoff_map, memory=None):\n",
    "        \"\"\"\n",
    "        Constructor\n",
    "        \"\"\"\n",
    "        self.payoff_map = payoff_map\n",
    "        self.memory = memory\n",
    "        self.previous_game_payoffs = []\n",
    "        self.other_player_action = []\n",
    "        \n",
    "    def get_action(self):\n",
    "        \"\"\"\n",
    "        Randomly draw action given prob_confess.\n",
    "        \"\"\"\n",
    "        if self.memory: \n",
    "            if self.other_player_action[(-self.memory):].count(\"C\") > 0:\n",
    "                return \"C\"\n",
    "            else:\n",
    "                return \"NC\"\n",
    "        else:\n",
    "            if self.other_player_action.count(\"C\") > 0:\n",
    "                return \"C\"\n",
    "            else:\n",
    "                return \"NC\""
   ]
  },
  {
   "cell_type": "code",
   "execution_count": 140,
   "metadata": {
    "collapsed": false
   },
   "outputs": [],
   "source": [
    "player_a = Player(payoff_map, prob_confess)\n",
    "player_b = Player(payoff_map, prob_confess)"
   ]
  },
  {
   "cell_type": "code",
   "execution_count": 128,
   "metadata": {
    "collapsed": false
   },
   "outputs": [
    {
     "data": {
      "text/plain": [
       "'C'"
      ]
     },
     "execution_count": 128,
     "metadata": {},
     "output_type": "execute_result"
    }
   ],
   "source": [
    "player_a.get_action()"
   ]
  },
  {
   "cell_type": "code",
   "execution_count": 141,
   "metadata": {
    "collapsed": true
   },
   "outputs": [],
   "source": [
    "class Game(object):\n",
    "    \"\"\"\n",
    "    Game class which stores the two players, their actions, and outcome.\n",
    "    \"\"\"\n",
    "    \n",
    "    def __init__(self, player_a, player_b):\n",
    "        \"\"\"\n",
    "        Constructor\n",
    "        \"\"\"\n",
    "        self.player_a = player_a\n",
    "        self.player_b = player_b\n",
    "        \n",
    "    def run(self):\n",
    "        \"\"\"\n",
    "        Run the game.\n",
    "        \"\"\"\n",
    "        # Draw the actions/strategies of the players\n",
    "        self.strategy_a = self.player_a.get_action()\n",
    "        self.strategy_b = self.player_b.get_action()\n",
    "        \n",
    "        # Calculate the outcomes\n",
    "        self.payoff_a, self.payoff_b = payoff_map[(self.strategy_a, self.strategy_b)]\n",
    "        self.total_payoff = self.payoff_a + self.payoff_b\n",
    "        self.average_payoff = (self.payoff_a + self.payoff_b) / 2.0\n",
    "        \n",
    "        # Update player memories\n",
    "        self.player_a.previous_game_payoffs.append(self.payoff_a)\n",
    "        self.player_b.previous_game_payoffs.append(self.payoff_b)\n",
    "        self.player_a.other_player_action.append(self.strategy_b)\n",
    "        self.player_b.other_player_action.append(self.strategy_a)"
   ]
  },
  {
   "cell_type": "code",
   "execution_count": 289,
   "metadata": {
    "collapsed": false
   },
   "outputs": [],
   "source": [
    "# Create players\n",
    "player_a = Player(payoff_map, prob_confess)\n",
    "player_b = AlwaysCUntilDPlayer(payoff_map, memory=50)"
   ]
  },
  {
   "cell_type": "code",
   "execution_count": 290,
   "metadata": {
    "collapsed": false
   },
   "outputs": [
    {
     "name": "stdout",
     "output_type": "stream",
     "text": [
      "The strategies were NC, NC\n",
      "The total payoff was -2 and the average payoff was -1.0\n",
      "['NC']\n"
     ]
    }
   ],
   "source": [
    "# Create the game\n",
    "g = Game(player_a, player_b)\n",
    "\n",
    "# Run the game\n",
    "g.run()\n",
    "\n",
    "print(\"The strategies were {0}, {1}\".format(g.strategy_a, g.strategy_b))\n",
    "print(\"The total payoff was {0} and the average payoff was {1}\"\\\n",
    "        .format(g.total_payoff, g.average_payoff))\n",
    "print(player_a.other_player_action)"
   ]
  },
  {
   "cell_type": "code",
   "execution_count": 291,
   "metadata": {
    "collapsed": true
   },
   "outputs": [],
   "source": [
    "# Set number of games to run\n",
    "num_games = 100\n",
    "game_history = []\n",
    "total_payoff_history = []\n",
    "\n",
    "# Create players\n",
    "player_a = Player(payoff_map, prob_confess)\n",
    "player_b = Player(payoff_map, prob_confess)\n",
    "\n",
    "for i in range(num_games):\n",
    "    # Create and run the game\n",
    "    g = Game(player_a, player_b)\n",
    "    g.run()\n",
    "    \n",
    "    # Append to the history\n",
    "    total_payoff_history.append(g.total_payoff)\n",
    "    game_history.append(g)"
   ]
  },
  {
   "cell_type": "code",
   "execution_count": null,
   "metadata": {
    "collapsed": true
   },
   "outputs": [],
   "source": []
  },
  {
   "cell_type": "code",
   "execution_count": 292,
   "metadata": {
    "collapsed": false
   },
   "outputs": [
    {
     "data": {
      "image/png": "[encoded data removed]",
      "text/plain": [
       "<matplotlib.figure.Figure at 0x7fe10f06a310>"
      ]
     },
     "metadata": {},
     "output_type": "display_data"
    }
   ],
   "source": [
    "__ = plt.hist(total_payoff_history)"
   ]
  },
  {
   "cell_type": "code",
   "execution_count": 293,
   "metadata": {
    "collapsed": false
   },
   "outputs": [
    {
     "data": {
      "text/plain": [
       "[<matplotlib.lines.Line2D at 0x7fe10f2e31d0>]"
      ]
     },
     "execution_count": 293,
     "metadata": {},
     "output_type": "execute_result"
    },
    {
     "data": {
      "image/png": "[encoded data removed]",
      "text/plain": [
       "<matplotlib.figure.Figure at 0x7fe10f0de990>"
      ]
     },
     "metadata": {},
     "output_type": "display_data"
    }
   ],
   "source": [
    "plt.plot(total_payoff_history)"
   ]
  },
  {
   "cell_type": "code",
   "execution_count": null,
   "metadata": {
    "collapsed": true
   },
   "outputs": [],
   "source": []
  }
 ],
 "metadata": {
  "kernelspec": {
   "display_name": "Python 2",
   "language": "python",
   "name": "python2"
  },
  "language_info": {
   "codemirror_mode": {
    "name": "ipython",
    "version": 2
   },
   "file_extension": ".py",
   "mimetype": "text/x-python",
   "name": "python",
   "nbconvert_exporter": "python",
   "pygments_lexer": "ipython2",
   "version": "2.7.8"
  }
 },
 "nbformat": 4,
 "nbformat_minor": 0
}
