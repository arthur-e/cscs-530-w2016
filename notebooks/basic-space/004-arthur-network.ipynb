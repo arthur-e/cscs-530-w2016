{
 "cells": [
  {
   "cell_type": "code",
   "execution_count": 19,
   "metadata": {
    "collapsed": true
   },
   "outputs": [],
   "source": [
    "%matplotlib inline\n",
    "\n",
    "# Imports\n",
    "import networkx as nx\n",
    "import numpy\n",
    "import matplotlib.pyplot as plt\n",
    "import pandas\n",
    "\n",
    "try:\n",
    "    import seaborn; seaborn.set()\n",
    "    \n",
    "except ImportError:\n",
    "    pass\n",
    "\n",
    "# Import widget methods\n",
    "from ipywidgets.widgets import *"
   ]
  },
  {
   "cell_type": "markdown",
   "metadata": {},
   "source": [
    "# Graph Construction\n",
    "\n",
    "We'll manually create a deterministic graph."
   ]
  },
  {
   "cell_type": "code",
   "execution_count": 2,
   "metadata": {
    "collapsed": false
   },
   "outputs": [
    {
     "name": "stdout",
     "output_type": "stream",
     "text": [
      "(0, 0)\n"
     ]
    }
   ],
   "source": [
    "g = nx.Graph()\n",
    "print((g.number_of_nodes(), g.number_of_edges()))"
   ]
  },
  {
   "cell_type": "code",
   "execution_count": 3,
   "metadata": {
    "collapsed": false
   },
   "outputs": [
    {
     "name": "stdout",
     "output_type": "stream",
     "text": [
      "(1, 0)\n",
      "(2, 0)\n"
     ]
    }
   ],
   "source": [
    "g.add_node('alice')\n",
    "print((g.number_of_nodes(), g.number_of_edges()))\n",
    "g.add_node('bob')\n",
    "print((g.number_of_nodes(), g.number_of_edges()))"
   ]
  },
  {
   "cell_type": "code",
   "execution_count": 4,
   "metadata": {
    "collapsed": false
   },
   "outputs": [],
   "source": [
    "# Add an edge between alice and bob\n",
    "g.add_edge('alice', 'bob')"
   ]
  },
  {
   "cell_type": "code",
   "execution_count": 5,
   "metadata": {
    "collapsed": false
   },
   "outputs": [
    {
     "data": {
      "image/png": "[encoded data removed]",
      "text/plain": [
       "<matplotlib.figure.Figure at 0x7fd93d471a50>"
      ]
     },
     "metadata": {},
     "output_type": "display_data"
    }
   ],
   "source": [
    "g_layout = nx.spring_layout(g, iterations=1000)\n",
    "nx.draw_networkx(g, pos=g_layout, node_color='#eeeeee', node_size=1000)"
   ]
  },
  {
   "cell_type": "markdown",
   "metadata": {},
   "source": [
    "# Random Graph Construction\n",
    "\n",
    "Next, we'll grow our own graph using the following procedure:\n",
    "\n",
    "1. Each time step, sample a number of nodes to add.\n",
    "2. For each node to add, sample a random set of edges to add.\n",
    "\n",
    "**This formulation is a bit ambiguous.** For instance, regarding (2), what is the pool of potential edges from which we might draw? Is this pool updated each time step? This introduces questions of **time discretization** and **synchronicity.**\n",
    "\n",
    "We seem to be implying that within each time step ($\\Delta t$) we are only considering the nodes that currently exist (existed or were created at the end of the last time step)."
   ]
  },
  {
   "cell_type": "code",
   "execution_count": 10,
   "metadata": {
    "collapsed": false,
    "scrolled": true
   },
   "outputs": [
    {
     "name": "stdout",
     "output_type": "stream",
     "text": [
      "(1, 0)\n",
      "(2, 0)\n",
      "(3, 0)\n",
      "(4, 0)\n",
      "(5, 1)\n",
      "(6, 3)\n",
      "(7, 4)\n",
      "(8, 4)\n",
      "(9, 4)\n",
      "(10, 5)\n",
      "(11, 7)\n",
      "(12, 10)\n"
     ]
    }
   ],
   "source": [
    "# Create a new graph\n",
    "g = nx.Graph()\n",
    "num_steps = 10\n",
    "\n",
    "# Iterate through time\n",
    "for t in range(num_steps):\n",
    "    # Draw a random number of nodes to add\n",
    "    num_nodes_add = numpy.random.binomial(10, 0.1)\n",
    "    num_edges_add = 0\n",
    "        \n",
    "    # Iterate through nodes to add; counting from last node ID\n",
    "    for new_node_number in range(g.number_of_nodes(), g.number_of_nodes() + num_nodes_add):\n",
    "        \n",
    "        # Sample number of edges\n",
    "        num_edges_per_node = numpy.random.binomial(g.number_of_nodes(), 0.3)\n",
    "        num_edges_add += num_edges_per_node\n",
    "                \n",
    "        # New edges are determined randomly based on previously extant nodes\n",
    "        nodes_to_connect = numpy.random.choice(list(range(g.number_of_nodes() + 1)), num_edges_per_node)\n",
    "\n",
    "        nodes_to_connect = [n for n in nodes_to_connect if n != new_node_number]\n",
    "        nodes_to_connect = [n for n in nodes_to_connect if len(g.neighbors(n)) < 3]\n",
    "        \n",
    "        # Create edges to previously extant nodes\n",
    "        g.add_edges_from([(new_node_number, x) for x in nodes_to_connect])\n",
    "        \n",
    "        g.add_node(new_node_number)\n",
    "        \n",
    "        print((g.number_of_nodes(), g.number_of_edges()))\n",
    "        \n",
    "# If any of the nodes are unconnected...\n",
    "if 0 in map(len, [g.neighbors(n) for n in g.nodes()]):\n",
    "    unconnected_nodes = [n for n in g.nodes() if len(g.neighbors(n)) == 0]\n",
    "    \n",
    "    for unconnected_node in unconnected_nodes:\n",
    "        new_connection_num = numpy.random.choice([\n",
    "                n for n in list(range(g.number_of_nodes())) if n not in unconnected_nodes\n",
    "            ], 1)\n",
    "\n",
    "        g.add_edges_from([(unconnected_node, x) for x in new_connection_num])\n",
    "        "
   ]
  },
  {
   "cell_type": "code",
   "execution_count": 11,
   "metadata": {
    "collapsed": false
   },
   "outputs": [
    {
     "data": {
      "image/png": "[encoded data removed]",
      "text/plain": [
       "<matplotlib.figure.Figure at 0x7fd93992cf90>"
      ]
     },
     "metadata": {},
     "output_type": "display_data"
    }
   ],
   "source": [
    "g_layout = nx.circular_layout(g)\n",
    "nx.draw_networkx(g, pos=g_layout, node_color='#eeeeee')"
   ]
  },
  {
   "cell_type": "markdown",
   "metadata": {},
   "source": [
    "## Better Random Graph"
   ]
  },
  {
   "cell_type": "code",
   "execution_count": 72,
   "metadata": {
    "collapsed": false,
    "scrolled": true
   },
   "outputs": [
    {
     "name": "stdout",
     "output_type": "stream",
     "text": [
      "(1, 0)\n",
      "(2, 1)\n",
      "(4, 2)\n",
      "(5, 4)\n",
      "(6, 5)\n",
      "(7, 6)\n"
     ]
    },
    {
     "ename": "NetworkXError",
     "evalue": "The node 3 is not in the graph.",
     "output_type": "error",
     "traceback": [
      "\u001b[1;31m---------------------------------------------------------------------------\u001b[0m",
      "\u001b[1;31mNetworkXError\u001b[0m                             Traceback (most recent call last)",
      "\u001b[1;32m<ipython-input-72-a9b51fb6e175>\u001b[0m in \u001b[0;36m<module>\u001b[1;34m()\u001b[0m\n\u001b[0;32m     20\u001b[0m \u001b[1;33m\u001b[0m\u001b[0m\n\u001b[0;32m     21\u001b[0m         \u001b[0mnodes_to_connect\u001b[0m \u001b[1;33m=\u001b[0m \u001b[1;33m[\u001b[0m\u001b[0mn\u001b[0m \u001b[1;32mfor\u001b[0m \u001b[0mn\u001b[0m \u001b[1;32min\u001b[0m \u001b[0mnodes_to_connect\u001b[0m \u001b[1;32mif\u001b[0m \u001b[0mn\u001b[0m \u001b[1;33m!=\u001b[0m \u001b[0mnew_node_number\u001b[0m\u001b[1;33m]\u001b[0m\u001b[1;33m\u001b[0m\u001b[0m\n\u001b[1;32m---> 22\u001b[1;33m         \u001b[0mnodes_to_connect\u001b[0m \u001b[1;33m=\u001b[0m \u001b[1;33m[\u001b[0m\u001b[0mn\u001b[0m \u001b[1;32mfor\u001b[0m \u001b[0mn\u001b[0m \u001b[1;32min\u001b[0m \u001b[0mnodes_to_connect\u001b[0m \u001b[1;32mif\u001b[0m \u001b[0mlen\u001b[0m\u001b[1;33m(\u001b[0m\u001b[0mg\u001b[0m\u001b[1;33m.\u001b[0m\u001b[0mneighbors\u001b[0m\u001b[1;33m(\u001b[0m\u001b[0mn\u001b[0m\u001b[1;33m)\u001b[0m\u001b[1;33m)\u001b[0m \u001b[1;33m<\u001b[0m \u001b[1;36m3\u001b[0m\u001b[1;33m]\u001b[0m\u001b[1;33m\u001b[0m\u001b[0m\n\u001b[0m\u001b[0;32m     23\u001b[0m \u001b[1;33m\u001b[0m\u001b[0m\n\u001b[0;32m     24\u001b[0m         \u001b[1;31m# If no new connection is connected to the root node (1), then\u001b[0m\u001b[1;33m\u001b[0m\u001b[1;33m\u001b[0m\u001b[0m\n",
      "\u001b[1;32m/home/arthur/Applications/anaconda2/lib/python2.7/site-packages/networkx/classes/graph.pyc\u001b[0m in \u001b[0;36mneighbors\u001b[1;34m(self, n)\u001b[0m\n\u001b[0;32m   1058\u001b[0m             \u001b[1;32mreturn\u001b[0m \u001b[0mlist\u001b[0m\u001b[1;33m(\u001b[0m\u001b[0mself\u001b[0m\u001b[1;33m.\u001b[0m\u001b[0madj\u001b[0m\u001b[1;33m[\u001b[0m\u001b[0mn\u001b[0m\u001b[1;33m]\u001b[0m\u001b[1;33m)\u001b[0m\u001b[1;33m\u001b[0m\u001b[0m\n\u001b[0;32m   1059\u001b[0m         \u001b[1;32mexcept\u001b[0m \u001b[0mKeyError\u001b[0m\u001b[1;33m:\u001b[0m\u001b[1;33m\u001b[0m\u001b[0m\n\u001b[1;32m-> 1060\u001b[1;33m             \u001b[1;32mraise\u001b[0m \u001b[0mNetworkXError\u001b[0m\u001b[1;33m(\u001b[0m\u001b[1;34m\"The node %s is not in the graph.\"\u001b[0m \u001b[1;33m%\u001b[0m \u001b[1;33m(\u001b[0m\u001b[0mn\u001b[0m\u001b[1;33m,\u001b[0m\u001b[1;33m)\u001b[0m\u001b[1;33m)\u001b[0m\u001b[1;33m\u001b[0m\u001b[0m\n\u001b[0m\u001b[0;32m   1061\u001b[0m \u001b[1;33m\u001b[0m\u001b[0m\n\u001b[0;32m   1062\u001b[0m     \u001b[1;32mdef\u001b[0m \u001b[0mneighbors_iter\u001b[0m\u001b[1;33m(\u001b[0m\u001b[0mself\u001b[0m\u001b[1;33m,\u001b[0m \u001b[0mn\u001b[0m\u001b[1;33m)\u001b[0m\u001b[1;33m:\u001b[0m\u001b[1;33m\u001b[0m\u001b[0m\n",
      "\u001b[1;31mNetworkXError\u001b[0m: The node 3 is not in the graph."
     ]
    }
   ],
   "source": [
    "# Create a new graph\n",
    "g = nx.Graph()\n",
    "num_steps = 10\n",
    "\n",
    "# Iterate through time\n",
    "for t in range(num_steps):\n",
    "    # Draw a random number of nodes to add\n",
    "    num_nodes_add = numpy.random.binomial(10, 0.1)\n",
    "    num_edges_add = 0\n",
    "        \n",
    "    # Iterate through nodes to add; counting from last node ID\n",
    "    for new_node_number in range(g.number_of_nodes(), g.number_of_nodes() + num_nodes_add):\n",
    "                \n",
    "        # Sample number of edges\n",
    "        num_edges_per_node = numpy.random.binomial(g.number_of_nodes(), 0.3)\n",
    "        num_edges_add += num_edges_per_node\n",
    "                \n",
    "        # New edges are determined randomly based on previously extant nodes\n",
    "        nodes_to_connect = numpy.random.choice(list(range(g.number_of_nodes() + 1)), num_edges_per_node)\n",
    "\n",
    "        nodes_to_connect = [n for n in nodes_to_connect if n != new_node_number]\n",
    "        \n",
    "        #FIXME Sometimes fails because \"NetworkXError: The node X is not in the graph.\"\n",
    "        nodes_to_connect = [n for n in nodes_to_connect if len(g.neighbors(n)) < 3]\n",
    "        \n",
    "        # If no new connection is connected to the root node (1), then\n",
    "        #  randomly connect to a root-connected node\n",
    "        if g.number_of_nodes() > 1:\n",
    "            if len(set(nodes_to_connect).intersection(nodes_connected_to_root)) == 0:\n",
    "                nodes_to_connect.extend(numpy.random.choice(list(nodes_connected_to_root), 1))\n",
    "\n",
    "        # Create edges to previously extant nodes\n",
    "        g.add_edges_from([(new_node_number, x) for x in nodes_to_connect])\n",
    "        \n",
    "        # Add this node; note that it is connected to the root\n",
    "        g.add_node(new_node_number)\n",
    "        nodes_connected_to_root.add(new_node_number)\n",
    "        \n",
    "        print((g.number_of_nodes(), g.number_of_edges()))\n",
    "        \n",
    "# If any of the nodes are unconnected...\n",
    "if 0 in map(len, [g.neighbors(n) for n in g.nodes()]):\n",
    "    unconnected_nodes = [n for n in g.nodes() if len(g.neighbors(n)) == 0]\n",
    "    \n",
    "    if g.number_of_edges() > 0:\n",
    "        for unconnected_node in unconnected_nodes:\n",
    "            new_connection_num = numpy.random.choice([\n",
    "                    n for n in list(range(g.number_of_nodes())) if n not in unconnected_nodes\n",
    "                ], 1)\n",
    "\n",
    "            g.add_edges_from([(unconnected_node, x) for x in new_connection_num])\n",
    "        \n",
    "g_layout = nx.circular_layout(g)\n",
    "nx.draw_networkx(g, pos=g_layout, node_color='#eeeeee')"
   ]
  }
 ],
 "metadata": {
  "kernelspec": {
   "display_name": "Python 2",
   "language": "python",
   "name": "python2"
  },
  "language_info": {
   "codemirror_mode": {
    "name": "ipython",
    "version": 2
   },
   "file_extension": ".py",
   "mimetype": "text/x-python",
   "name": "python",
   "nbconvert_exporter": "python",
   "pygments_lexer": "ipython2",
   "version": "2.7.11"
  }
 },
 "nbformat": 4,
 "nbformat_minor": 0
}
