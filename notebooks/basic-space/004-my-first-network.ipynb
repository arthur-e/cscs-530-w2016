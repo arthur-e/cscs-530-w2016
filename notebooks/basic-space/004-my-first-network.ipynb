{
 "cells": [
  {
   "cell_type": "code",
   "execution_count": 1,
   "metadata": {
    "collapsed": true
   },
   "outputs": [],
   "source": [
    "%matplotlib inline\n",
    "\n",
    "# Imports\n",
    "import networkx as nx\n",
    "import numpy\n",
    "import matplotlib.pyplot as plt\n",
    "import pandas\n",
    "\n",
    "try:\n",
    "    import seaborn; seaborn.set()\n",
    "    \n",
    "except ImportError:\n",
    "    pass\n",
    "\n",
    "# Import widget methods\n",
    "from ipywidgets.widgets import *"
   ]
  },
  {
   "cell_type": "markdown",
   "metadata": {},
   "source": [
    "# Graph Construction\n",
    "\n",
    "We'll manually create a deterministic graph."
   ]
  },
  {
   "cell_type": "code",
   "execution_count": 2,
   "metadata": {
    "collapsed": false
   },
   "outputs": [
    {
     "name": "stdout",
     "output_type": "stream",
     "text": [
      "(0, 0)\n"
     ]
    }
   ],
   "source": [
    "g = nx.Graph()\n",
    "print((g.number_of_nodes(), g.number_of_edges()))"
   ]
  },
  {
   "cell_type": "code",
   "execution_count": 4,
   "metadata": {
    "collapsed": false
   },
   "outputs": [
    {
     "name": "stdout",
     "output_type": "stream",
     "text": [
      "(1, 0)\n",
      "(2, 0)\n"
     ]
    }
   ],
   "source": [
    "g.add_node('alice')\n",
    "print((g.number_of_nodes(), g.number_of_edges()))\n",
    "g.add_node('bob')\n",
    "print((g.number_of_nodes(), g.number_of_edges()))"
   ]
  },
  {
   "cell_type": "code",
   "execution_count": 8,
   "metadata": {
    "collapsed": false
   },
   "outputs": [],
   "source": [
    "# Add an edge between alice and bob\n",
    "g.add_edge('alice', 'bob')"
   ]
  },
  {
   "cell_type": "code",
   "execution_count": 17,
   "metadata": {
    "collapsed": false
   },
   "outputs": [
    {
     "data": {
      "image/png": "[encoded data removed]",
      "text/plain": [
       "<matplotlib.figure.Figure at 0x7f662c8cc710>"
      ]
     },
     "metadata": {},
     "output_type": "display_data"
    }
   ],
   "source": [
    "g_layout = nx.spring_layout(g, iterations=1000)\n",
    "nx.draw_networkx(g, pos=g_layout, node_color='#eeeeee', node_size=900)"
   ]
  },
  {
   "cell_type": "markdown",
   "metadata": {},
   "source": [
    "# Random Graph Construction\n",
    "\n",
    "Next, we'll grow our own graph using the following procedure:\n",
    "\n",
    "1. Each time step, sample a number of nodes to add.\n",
    "2. For each node to add, sample a random set of edges to add.\n",
    "\n",
    "**This formulation is a bit ambiguous.** For instance, regarding (2), what is the pool of potential edges from which we might draw? Is this pool updated each time step? This introduces questions of **time discretization** and **synchronicity.**\n",
    "\n",
    "We seem to be implying that within each time step ($\\Delta t$) we are only considering the nodes that currently exist (existed or were created at the end of the last time step)."
   ]
  },
  {
   "cell_type": "code",
   "execution_count": 97,
   "metadata": {
    "collapsed": false,
    "scrolled": true
   },
   "outputs": [
    {
     "name": "stdout",
     "output_type": "stream",
     "text": [
      "(1, 0)\n",
      "(2, 0)\n",
      "(3, 1)\n",
      "(4, 2)\n",
      "(5, 5)\n",
      "(6, 5)\n",
      "(7, 9)\n",
      "(8, 9)\n",
      "(9, 10)\n",
      "(10, 12)\n"
     ]
    }
   ],
   "source": [
    "# Create a new graph\n",
    "g = nx.Graph()\n",
    "num_steps = 10\n",
    "\n",
    "# Iterate through time\n",
    "for t in range(num_steps):\n",
    "    # Draw a random number of nodes to add\n",
    "    num_nodes_add = numpy.random.binomial(10, 0.1)\n",
    "    num_edges_add = 0\n",
    "        \n",
    "    # Iterate through nodes to add; counting from last node ID\n",
    "    for new_node_number in range(g.number_of_nodes(), g.number_of_nodes() + num_nodes_add):\n",
    "        \n",
    "        # Sample number of edges\n",
    "        num_edges_per_node = numpy.random.binomial(g.number_of_nodes(), 0.3)\n",
    "        num_edges_add += num_edges_per_node\n",
    "                \n",
    "        # New edges are determined randomly based on previously extant nodes\n",
    "        nodes_to_connect = numpy.random.choice(list(range(g.number_of_nodes() + 1)), num_edges_per_node)\n",
    "\n",
    "        #print('Current node: %d; New nodes to connect:' % new_node_number)\n",
    "        #print(nodes_to_connect)\n",
    "        # Don't allow self-connections; only connect nodes with fewer than three connections\n",
    "        nodes_to_connect = [n for n in nodes_to_connect if n != new_node_number]\n",
    "        nodes_to_connect = [n for n in nodes_to_connect if len(g.neighbors(n)) < 3]\n",
    "        \n",
    "        # Create edges to previously extant nodes\n",
    "        g.add_edges_from([(new_node_number, x) for x in nodes_to_connect])\n",
    "        \n",
    "        g.add_node(new_node_number)\n",
    "        \n",
    "        print((g.number_of_nodes(), g.number_of_edges()))\n",
    "        \n",
    "# If any of the nodes are unconnected...\n",
    "if 0 in map(len, [g.neighbors(n) for n in g.nodes()]):\n",
    "    unconnected_nodes = [n for n in g.nodes() if len(g.neighbors(n)) == 0]\n",
    "    \n",
    "    for unconnected_node in unconnected_nodes:\n",
    "        new_connection_num = numpy.random.choice([\n",
    "                n for n in list(range(g.number_of_nodes())) if n not in unconnected_nodes\n",
    "            ], 1)\n",
    "\n",
    "        g.add_edges_from([(unconnected_node, x) for x in new_connection_num])\n",
    "        "
   ]
  },
  {
   "cell_type": "code",
   "execution_count": 100,
   "metadata": {
    "collapsed": false
   },
   "outputs": [
    {
     "data": {
      "image/png": "[encoded data removed]",
      "text/plain": [
       "<matplotlib.figure.Figure at 0x7f662c9db0d0>"
      ]
     },
     "metadata": {},
     "output_type": "display_data"
    }
   ],
   "source": [
    "g_layout = nx.circular_layout(g)\n",
    "nx.draw_networkx(g, pos=g_layout, node_color='#eeeeee')"
   ]
  }
 ],
 "metadata": {
  "kernelspec": {
   "display_name": "Python 2",
   "language": "python",
   "name": "python2"
  },
  "language_info": {
   "codemirror_mode": {
    "name": "ipython",
    "version": 2
   },
   "file_extension": ".py",
   "mimetype": "text/x-python",
   "name": "python",
   "nbconvert_exporter": "python",
   "pygments_lexer": "ipython2",
   "version": "2.7.11"
  }
 },
 "nbformat": 4,
 "nbformat_minor": 0
}
