{
 "cells": [
  {
   "cell_type": "markdown",
   "metadata": {},
   "source": [
    "# Prisoner's Dilemma (Game Theory) Model"
   ]
  },
  {
   "cell_type": "markdown",
   "metadata": {},
   "source": [
    "(Payoffs)      | S1 Not Confess | S1 Confess\n",
    "-------------- | -------------- | ----------\n",
    "S2 Not Confess | -1, -1         | 0, -10\n",
    "S2 Confess     | -10, 0         | -4, -4"
   ]
  },
  {
   "cell_type": "code",
   "execution_count": 1,
   "metadata": {
    "collapsed": true
   },
   "outputs": [],
   "source": [
    "payoff_map = {\n",
    "    ('NC', 'NC'): (-1, -1),\n",
    "    ('C', 'NC'): (0, -10),\n",
    "    ('NC', 'C'): (-10, 0),\n",
    "    ('C', 'C'): (-4, -4)\n",
    "}"
   ]
  },
  {
   "cell_type": "code",
   "execution_count": 2,
   "metadata": {
    "collapsed": false
   },
   "outputs": [
    {
     "name": "stdout",
     "output_type": "stream",
     "text": [
      "I got -10\n",
      "You got 0\n"
     ]
    }
   ],
   "source": [
    "my_payoff, your_payoff = payoff_map[('NC', 'C')]\n",
    "print('I got {0}'.format(my_payoff))\n",
    "print('You got {0}'.format(your_payoff))"
   ]
  },
  {
   "cell_type": "markdown",
   "metadata": {},
   "source": [
    "## Game Simulation"
   ]
  },
  {
   "cell_type": "code",
   "execution_count": 15,
   "metadata": {
    "collapsed": true
   },
   "outputs": [],
   "source": [
    "%matplotlib inline\n",
    "\n",
    "import matplotlib.pyplot as plt\n",
    "import numpy as np\n",
    "\n",
    "# The probability that any given player will confess\n",
    "prob_confess = 0.1\n",
    "\n",
    "class Player(object):\n",
    "    '''\n",
    "    Any given player.\n",
    "    '''\n",
    "    def __init__(self, payoff_map, prob_confess):\n",
    "        self.payoff_map = payoff_map\n",
    "        self.prob_confess = prob_confess\n",
    "        \n",
    "    def get_action(self):\n",
    "        '''\n",
    "        Randomly draw action given prob_confess.\n",
    "        '''\n",
    "        if np.random.random() <= prob_confess:\n",
    "            return 'C'\n",
    "        \n",
    "        else:\n",
    "            return 'NC'\n",
    "        \n",
    "        \n",
    "class Game(object):\n",
    "    '''\n",
    "    A game in which players can participate.\n",
    "    '''\n",
    "    \n",
    "    def __init__(self, player_a, player_b):\n",
    "        self.player_a = player_a\n",
    "        self.player_b = player_b\n",
    "        \n",
    "    def run(self):\n",
    "        '''\n",
    "        Run the game: Draw the actions from the players and calculate outcomes.\n",
    "        '''\n",
    "        strategy_a = self.player_a.get_action()\n",
    "        strategy_b = self.player_b.get_action()\n",
    "        \n",
    "        self.payoff_a, self.payoff_b = payoff_map[(strategy_a, strategy_b)]\n",
    "        self.total_payoff = self.payoff_a + self.payoff_b\n",
    "        self.avg_payoff = self.total_payoff / 2.0"
   ]
  },
  {
   "cell_type": "code",
   "execution_count": 20,
   "metadata": {
    "collapsed": false
   },
   "outputs": [
    {
     "data": {
      "image/png": "[encoded data removed]",
      "text/plain": [
       "<matplotlib.figure.Figure at 0x7f6d42340cd0>"
      ]
     },
     "metadata": {},
     "output_type": "display_data"
    }
   ],
   "source": [
    "player_a = Player(payoff_map, prob_confess)\n",
    "player_b = Player(payoff_map, prob_confess)\n",
    "num_games = 100\n",
    "game_history = []\n",
    "total_payoff_history = []\n",
    "\n",
    "for i in range(num_games):\n",
    "    g = Game(player_a, player_b)\n",
    "    g.run()\n",
    "    game_history.append(g)\n",
    "    total_payoff_history.append(g.total_payoff)\n",
    "\n",
    "histogram = plt.hist(total_payoff_history)"
   ]
  }
 ],
 "metadata": {
  "kernelspec": {
   "display_name": "Python 2",
   "language": "python",
   "name": "python2"
  },
  "language_info": {
   "codemirror_mode": {
    "name": "ipython",
    "version": 2
   },
   "file_extension": ".py",
   "mimetype": "text/x-python",
   "name": "python",
   "nbconvert_exporter": "python",
   "pygments_lexer": "ipython2",
   "version": "2.7.11"
  }
 },
 "nbformat": 4,
 "nbformat_minor": 0
}
